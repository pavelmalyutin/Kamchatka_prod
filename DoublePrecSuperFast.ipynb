{
 "cells": [
  {
   "cell_type": "markdown",
   "metadata": {},
   "source": [
    "# Малютин Павел, ИТПЗ РАН\n",
    " "
   ]
  },
  {
   "cell_type": "code",
   "execution_count": null,
   "metadata": {},
   "outputs": [],
   "source": [
    "import pandas as pd\n",
    "import math \n",
    "import dask.dataframe as dd\n",
    "import matplotlib.pyplot as plt\n",
    "import numpy as np\n",
    "from tqdm import tqdm\n",
    "from numba import jit, njit\n",
    "from sklearn.linear_model import LinearRegression"
   ]
  },
  {
   "cell_type": "markdown",
   "metadata": {},
   "source": [
    "# b-value calculating"
   ]
  },
  {
   "cell_type": "code",
   "execution_count": null,
   "metadata": {
    "scrolled": true
   },
   "outputs": [],
   "source": [
    "'''чтение файла из директории проги\n",
    "и устранение выбросов значений магнитуды округлением до 1 знака пз.'''\n",
    "my_cat = pd.read_csv('./catalogues/DOUBLE_PREC_DD (2).csv', sep = ';') \n",
    "#my_cat = my_cat.loc[my_cat.YEAR < 1986]\n",
    "my_cat = my_cat.loc[my_cat.latitude > 38.7751667]\n",
    "my_cat = my_cat.loc[my_cat.latitude < 38.8081667]\n",
    "my_cat = my_cat.loc[my_cat.longitude > -122.778]\n",
    "my_cat = my_cat.loc[my_cat.longitude < -122.733]\n",
    "my_cat = my_cat.reset_index(drop = True)\n",
    "my_cat.mag = round(my_cat.mag, 1)  \n",
    "my_cat"
   ]
  },
  {
   "cell_type": "code",
   "execution_count": null,
   "metadata": {},
   "outputs": [],
   "source": [
    "from pathlib import Path  \n",
    "filepath = Path('./results/my_cat.csv')\n",
    "my_cat.to_csv(filepath)"
   ]
  },
  {
   "cell_type": "code",
   "execution_count": null,
   "metadata": {
    "scrolled": false
   },
   "outputs": [],
   "source": [
    "'''Следующий кусок вычисляет необходимые для построения графика повторяемости EQ параметры\n",
    "а именно: N_tot - суммарное количество землетрясений\n",
    "a - Series, состоящая из значений lg(N/N_tot) и соотвествующих магнитуд\n",
    "и, собственно строит график ПЗ для оценки справедливости Г-Р.'''\n",
    "N_tot = my_cat.shape\n",
    "f = lambda x: math.log10(x/N_tot[0])\n",
    "a = my_cat.mag.value_counts().apply(f)\n",
    "a.plot(style='.')\n",
    "plt.grid()\n",
    "plt.xlabel(\"M\")\n",
    "plt.ylabel(\"logN\")\n",
    "plt.suptitle('График повторяемости землетрясений', \n",
    "             fontsize=14, fontweight='bold')\n",
    " # расчет b-value по формуле Aki\n",
    "# mag - СТОЛБЕЦ С МАГНИТУДОЙ В ДАННОЙ csv\n"
   ]
  },
  {
   "cell_type": "markdown",
   "metadata": {},
   "source": [
    "### Необходимо выбрать представительную магнитуду"
   ]
  },
  {
   "cell_type": "code",
   "execution_count": null,
   "metadata": {},
   "outputs": [],
   "source": [
    "M_0 = float(input())\n",
    "my_cat = my_cat.loc[my_cat['mag'] > M_0]\n",
    "my_cat = my_cat.reset_index(drop = True)\n",
    "b_value = 1 / (my_cat['mag'].mean() - M_0) * (1/ math.log(10))\n",
    "# расчет b-value по формуле Aki\n",
    "# mag - СТОЛБЕЦ С МАГНИТУДОЙ В ДАННОЙ csv\n",
    "print('\\033[1m'+'b-value is:', b_value, ' ± ', b_value/math.sqrt(N_tot[0]))\n",
    "my_cat\n",
    "N_tot = my_cat.shape"
   ]
  },
  {
   "cell_type": "markdown",
   "metadata": {},
   "source": [
    "# Fractal dimension"
   ]
  },
  {
   "cell_type": "markdown",
   "metadata": {},
   "source": [
    "## Непосредственный расчёт фрактальной размерности"
   ]
  },
  {
   "cell_type": "code",
   "execution_count": null,
   "metadata": {},
   "outputs": [],
   "source": [
    "Pi2 = math.pi/2 # тупо пи-на-два\n",
    "RAD = 0.01745329 # DGR -> RAD\n",
    "FLAT = 0.993231 # поправка на эллипсоидноть\n",
    "'''создание numpy-array для более быстрого обращения [к памяти]\n",
    "в цикле к соответствующим значениям широты и долготы'''\n",
    "latitude = (my_cat.latitude.to_numpy())\n",
    "longitude = (my_cat.longitude.to_numpy())\n",
    "depth = my_cat.depth.to_numpy()"
   ]
  },
  {
   "cell_type": "code",
   "execution_count": null,
   "metadata": {
    "scrolled": true
   },
   "outputs": [],
   "source": [
    "PI_2 = np.array([[Pi2]*N_tot[0] for i in range(N_tot[0])])\n",
    "col = PI_2 - np.arctan(FLAT*np.tan(RAD*(np.array([latitude for i in range(N_tot[0])]))))\n",
    "dlon = RAD*np.transpose(np.array([longitude for i in range (N_tot[0])])) - RAD*(np.array([longitude for i in range (N_tot[0])]))\n",
    "delr = np.arccos(np.multiply(np.multiply(np.sin(col),np.sin(np.transpose(col))),np.cos(dlon)) + np.multiply(np.cos(col),np.cos(np.transpose(col))))\n",
    "colat = PI_2 - (0.5*(np.transpose(RAD*(np.array([latitude for i in range(N_tot[0])])))+RAD*(np.array([latitude for i in range(N_tot[0])])))) \n",
    "kek =  np.sqrt(np.power(np.multiply(6371.227*delr,(np.array([[1]*N_tot[0] for i in range(N_tot[0])]) + 0.00337853*(np.array([[1./3]*N_tot[0] for i in range(N_tot[0])]) -np.power(np.cos(colat),2)))),2) + np.power(np.transpose(np.array([depth for i in range(N_tot[0])]))-(np.array([depth for i in range(N_tot[0])])),2))\n",
    "\n",
    "kek = np.tril(kek, k=0)\n",
    "kek[kek == 0] = float('inf')"
   ]
  },
  {
   "cell_type": "code",
   "execution_count": null,
   "metadata": {},
   "outputs": [],
   "source": [
    "la, fi, d, PI_2, col, dlon, sin_col, cos_col, delr, colat = 0,0,0,0,0,0,0,0,0,0\n",
    "latitude, longitude, depth = 0,0,0"
   ]
  },
  {
   "cell_type": "code",
   "execution_count": null,
   "metadata": {},
   "outputs": [],
   "source": [
    "fractalka = pd.DataFrame(dtype='float')  #ДФ с lg(N/N_0) и lg(A)\n",
    "X = np.linspace(0.1,1.4,24) #задает равномерно распределенный массив возможных расстояний м/у ЗТ\n",
    "element_count = 0\n",
    "total_pairs = N_tot[0]*(N_tot[0]-1)/2    #общее количество пар землетрясений \n",
    "for i in tqdm(X):\n",
    "    element_count = (kek < i).sum()\n",
    "    fractalka = pd.concat([fractalka, pd.DataFrame ([math.log10(element_count/total_pairs)],[math.log10(i)])])\n",
    "    element_count = 0"
   ]
  },
  {
   "cell_type": "code",
   "execution_count": null,
   "metadata": {
    "scrolled": true
   },
   "outputs": [],
   "source": [
    "fractalka.plot(style='.')\n",
    "plt.suptitle('График зав-ти логарифма отн. числа пар землетрясений' '\\nпри заданном расстоянии от логарифма этого расстояния', \n",
    "             fontsize=14, fontweight='bold')\n",
    "plt.grid()\n",
    "plt.xlabel(\"log(A)\")\n",
    "plt.ylabel(\"log(N/N_0)\")\n",
    "X = fractalka.index.to_numpy().reshape(-1, 1)\n",
    "Y = fractalka[0].to_numpy().reshape(-1, 1)\n",
    "linear_model_d = LinearRegression()\n",
    "linear_model_d.fit(X, Y)\n",
    "d_f = linear_model_d.coef_[0][0] # фрактальная размерность\n",
    "print('\\033[1m' + 'Fractal dimension is', d_f)"
   ]
  },
  {
   "cell_type": "code",
   "execution_count": null,
   "metadata": {},
   "outputs": [],
   "source": [
    "kek[2,1]"
   ]
  },
  {
   "cell_type": "markdown",
   "metadata": {},
   "source": [
    "# Функция близости"
   ]
  },
  {
   "cell_type": "code",
   "execution_count": null,
   "metadata": {},
   "outputs": [],
   "source": [
    "print(\"b-value is               \", round(b_value,3))\n",
    "print(\"d_f is                   \", round(d_f,3))\n",
    "print(\"Minimal magnitude M_0 is \", M_0)"
   ]
  },
  {
   "cell_type": "markdown",
   "metadata": {},
   "source": [
    "### Функция для рассчёта времени между зт"
   ]
  },
  {
   "cell_type": "code",
   "execution_count": null,
   "metadata": {},
   "outputs": [],
   "source": [
    "n_ = np.zeros((N_tot[0],N_tot[0])) #numpy-array - будущая матрица расстояний м/у событиями\n",
    "'''нет смысла задавать inf, потому что потом все равно будут перемножения элементов матриц'''"
   ]
  },
  {
   "cell_type": "code",
   "execution_count": null,
   "metadata": {},
   "outputs": [],
   "source": [
    "TIME_IN_YEARS = np.array([my_cat.YEAR.to_numpy()*31536000 for i in range(N_tot[0])]) + np.array([(my_cat.MONTH.to_numpy())*2629746 for i in range(N_tot[0])])+ np.array([my_cat.DAY.to_numpy()*86400 for i in range(N_tot[0])])+ np.array([my_cat.HOUR.to_numpy()*3600 for i in range(N_tot[0])])+ np.array([my_cat.MINUTE.to_numpy()*60 for i in range(N_tot[0])])+ np.array([my_cat.SECOND.to_numpy() for i in range(N_tot[0])])"
   ]
  },
  {
   "cell_type": "code",
   "execution_count": null,
   "metadata": {},
   "outputs": [],
   "source": [
    "delta_TIME_IN_YEARS = np.transpose(TIME_IN_YEARS) - TIME_IN_YEARS \n",
    "TIME_IN_YEARS = 0\n",
    "delta_TIME_IN_YEARS.shape\n",
    "delta_TIME_IN_YEARS = np.tril(delta_TIME_IN_YEARS, k = 0)\n",
    "delta_TIME_IN_YEARS[delta_TIME_IN_YEARS < 0] = abs(delta_TIME_IN_YEARS[np.where(delta_TIME_IN_YEARS < 0)])"
   ]
  },
  {
   "cell_type": "code",
   "execution_count": null,
   "metadata": {},
   "outputs": [],
   "source": [
    "delta_TIME_IN_YEARS[2,1], kek[2,1]"
   ]
  },
  {
   "cell_type": "code",
   "execution_count": null,
   "metadata": {},
   "outputs": [],
   "source": [
    "mag = np.array([my_cat.mag.to_numpy() for i in range(N_tot[0])])\n",
    "#mag = np.tril(np.transpose(mag), k = 0)\n",
    "mag = np.tril((mag), k = 0)"
   ]
  },
  {
   "cell_type": "code",
   "execution_count": null,
   "metadata": {},
   "outputs": [],
   "source": [
    "na = np.multiply(np.multiply(delta_TIME_IN_YEARS[2,1],np.power(kek[2,1], d_f)),np.power(10,(-b_value)*mag[2,1]))\n",
    "na"
   ]
  },
  {
   "cell_type": "code",
   "execution_count": null,
   "metadata": {},
   "outputs": [],
   "source": []
  },
  {
   "cell_type": "code",
   "execution_count": null,
   "metadata": {},
   "outputs": [],
   "source": [
    "n_ = np.multiply(np.multiply(delta_TIME_IN_YEARS,np.power(kek, d_f)),np.power(10,(-b_value)*mag))\n",
    "n_ = np.tril(n_, k=0)\n",
    "n_[n_ == 0] = float('inf') \n",
    "n_ = np.nan_to_num(n_, nan=float('inf'), posinf=float('inf'))"
   ]
  },
  {
   "cell_type": "code",
   "execution_count": null,
   "metadata": {},
   "outputs": [],
   "source": [
    "n_[3,]"
   ]
  },
  {
   "cell_type": "code",
   "execution_count": null,
   "metadata": {},
   "outputs": [],
   "source": [
    "kekus = np.load('n_.npy')"
   ]
  },
  {
   "cell_type": "code",
   "execution_count": null,
   "metadata": {},
   "outputs": [],
   "source": [
    "kekus[3,]"
   ]
  },
  {
   "cell_type": "code",
   "execution_count": null,
   "metadata": {},
   "outputs": [],
   "source": [
    "N = np.array([0.] * N_tot[0]) #Минимальное расстояние до соседа\n",
    "D = np.array([0.] * N_tot[0]) #Номер события, до которого расстояние минимально (в перспективе - ближайший сосед)\n",
    "#Поиск соответствующих расстояний и номеров\n",
    "for i in range(len(n_)-1):\n",
    "    D[i] = round(math.log10(min(n_[i])),1)\n",
    "    #N[i] = n_[:][i].index(min(n_[i][:]))\n",
    "resultate = pd.DataFrame({'Closest_neigh':D, 'Index_o_CN':N})"
   ]
  },
  {
   "cell_type": "code",
   "execution_count": null,
   "metadata": {},
   "outputs": [],
   "source": [
    "resultate\n",
    "from pathlib import Path  \n",
    "filepath = Path('./results/nearest_dist_n_index.csv')\n",
    "resultate.to_csv(filepath)"
   ]
  },
  {
   "cell_type": "code",
   "execution_count": null,
   "metadata": {},
   "outputs": [],
   "source": [
    "Dist_to_Nearest = resultate.Closest_neigh.value_counts(normalize=True)\n",
    "from pathlib import Path  \n",
    "filepath = Path('./results/nearest_dist.csv')\n",
    "Dist_to_Nearest.to_csv(filepath)"
   ]
  },
  {
   "cell_type": "code",
   "execution_count": null,
   "metadata": {},
   "outputs": [],
   "source": [
    "part_cat = resultate.loc[resultate.index < 4000]\n",
    "part_cat.Closest_neigh.mean()"
   ]
  },
  {
   "cell_type": "code",
   "execution_count": null,
   "metadata": {},
   "outputs": [],
   "source": [
    "resultate = resultate.drop(index=0)"
   ]
  },
  {
   "cell_type": "code",
   "execution_count": null,
   "metadata": {},
   "outputs": [],
   "source": [
    "resultate"
   ]
  },
  {
   "cell_type": "markdown",
   "metadata": {},
   "source": [
    "##### "
   ]
  }
 ],
 "metadata": {
  "kernelspec": {
   "display_name": "Python 3 (ipykernel)",
   "language": "python",
   "name": "python3"
  },
  "language_info": {
   "codemirror_mode": {
    "name": "ipython",
    "version": 3
   },
   "file_extension": ".py",
   "mimetype": "text/x-python",
   "name": "python",
   "nbconvert_exporter": "python",
   "pygments_lexer": "ipython3",
   "version": "3.9.12"
  }
 },
 "nbformat": 4,
 "nbformat_minor": 4
}
