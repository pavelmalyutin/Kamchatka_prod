{
 "cells": [
  {
   "cell_type": "markdown",
   "metadata": {},
   "source": [
    "# Малютин Павел, ИТПЗ РАН\n",
    " "
   ]
  },
  {
   "cell_type": "code",
   "execution_count": 1,
   "metadata": {},
   "outputs": [],
   "source": [
    "import pandas as pd\n",
    "import math \n",
    "import dask.dataframe as dd\n",
    "import matplotlib.pyplot as plt\n",
    "import numpy as np\n",
    "from tqdm import tqdm\n",
    "from numba import jit, njit\n",
    "from sklearn.linear_model import LinearRegression"
   ]
  },
  {
   "cell_type": "markdown",
   "metadata": {},
   "source": [
    "# b-value calculating"
   ]
  },
  {
   "cell_type": "code",
   "execution_count": 2,
   "metadata": {
    "scrolled": true
   },
   "outputs": [
    {
     "data": {
      "text/html": [
       "<div>\n",
       "<style scoped>\n",
       "    .dataframe tbody tr th:only-of-type {\n",
       "        vertical-align: middle;\n",
       "    }\n",
       "\n",
       "    .dataframe tbody tr th {\n",
       "        vertical-align: top;\n",
       "    }\n",
       "\n",
       "    .dataframe thead th {\n",
       "        text-align: right;\n",
       "    }\n",
       "</style>\n",
       "<table border=\"1\" class=\"dataframe\">\n",
       "  <thead>\n",
       "    <tr style=\"text-align: right;\">\n",
       "      <th></th>\n",
       "      <th>YEAR</th>\n",
       "      <th>MONTH</th>\n",
       "      <th>DAY</th>\n",
       "      <th>HOUR</th>\n",
       "      <th>MINUTE</th>\n",
       "      <th>SECOND</th>\n",
       "      <th>latitude</th>\n",
       "      <th>longitude</th>\n",
       "      <th>depth</th>\n",
       "      <th>EH1</th>\n",
       "      <th>EH2</th>\n",
       "      <th>AZ</th>\n",
       "      <th>EV</th>\n",
       "      <th>mag</th>\n",
       "      <th>ID</th>\n",
       "    </tr>\n",
       "  </thead>\n",
       "  <tbody>\n",
       "    <tr>\n",
       "      <th>0</th>\n",
       "      <td>1984</td>\n",
       "      <td>1</td>\n",
       "      <td>1</td>\n",
       "      <td>1</td>\n",
       "      <td>19</td>\n",
       "      <td>11.317</td>\n",
       "      <td>36.08781</td>\n",
       "      <td>-120.22869</td>\n",
       "      <td>10.897</td>\n",
       "      <td>0.020</td>\n",
       "      <td>0.010</td>\n",
       "      <td>96</td>\n",
       "      <td>0.022</td>\n",
       "      <td>1.8</td>\n",
       "      <td>1109386</td>\n",
       "    </tr>\n",
       "    <tr>\n",
       "      <th>1</th>\n",
       "      <td>1984</td>\n",
       "      <td>1</td>\n",
       "      <td>1</td>\n",
       "      <td>1</td>\n",
       "      <td>58</td>\n",
       "      <td>2.420</td>\n",
       "      <td>36.87608</td>\n",
       "      <td>-120.90669</td>\n",
       "      <td>2.661</td>\n",
       "      <td>0.071</td>\n",
       "      <td>0.018</td>\n",
       "      <td>55</td>\n",
       "      <td>0.421</td>\n",
       "      <td>0.0</td>\n",
       "      <td>346</td>\n",
       "    </tr>\n",
       "    <tr>\n",
       "      <th>2</th>\n",
       "      <td>1984</td>\n",
       "      <td>1</td>\n",
       "      <td>1</td>\n",
       "      <td>1</td>\n",
       "      <td>59</td>\n",
       "      <td>27.124</td>\n",
       "      <td>36.87000</td>\n",
       "      <td>-120.90889</td>\n",
       "      <td>1.592</td>\n",
       "      <td>0.110</td>\n",
       "      <td>0.016</td>\n",
       "      <td>66</td>\n",
       "      <td>0.727</td>\n",
       "      <td>1.5</td>\n",
       "      <td>1109389</td>\n",
       "    </tr>\n",
       "    <tr>\n",
       "      <th>3</th>\n",
       "      <td>1984</td>\n",
       "      <td>1</td>\n",
       "      <td>1</td>\n",
       "      <td>2</td>\n",
       "      <td>28</td>\n",
       "      <td>4.240</td>\n",
       "      <td>37.51546</td>\n",
       "      <td>-118.75485</td>\n",
       "      <td>7.703</td>\n",
       "      <td>0.020</td>\n",
       "      <td>0.008</td>\n",
       "      <td>37</td>\n",
       "      <td>0.024</td>\n",
       "      <td>1.2</td>\n",
       "      <td>1109391</td>\n",
       "    </tr>\n",
       "    <tr>\n",
       "      <th>4</th>\n",
       "      <td>1984</td>\n",
       "      <td>1</td>\n",
       "      <td>1</td>\n",
       "      <td>3</td>\n",
       "      <td>8</td>\n",
       "      <td>58.044</td>\n",
       "      <td>40.57227</td>\n",
       "      <td>-124.55933</td>\n",
       "      <td>20.407</td>\n",
       "      <td>1.009</td>\n",
       "      <td>0.083</td>\n",
       "      <td>103</td>\n",
       "      <td>0.080</td>\n",
       "      <td>2.0</td>\n",
       "      <td>1109392</td>\n",
       "    </tr>\n",
       "    <tr>\n",
       "      <th>...</th>\n",
       "      <td>...</td>\n",
       "      <td>...</td>\n",
       "      <td>...</td>\n",
       "      <td>...</td>\n",
       "      <td>...</td>\n",
       "      <td>...</td>\n",
       "      <td>...</td>\n",
       "      <td>...</td>\n",
       "      <td>...</td>\n",
       "      <td>...</td>\n",
       "      <td>...</td>\n",
       "      <td>...</td>\n",
       "      <td>...</td>\n",
       "      <td>...</td>\n",
       "      <td>...</td>\n",
       "    </tr>\n",
       "    <tr>\n",
       "      <th>21270</th>\n",
       "      <td>1984</td>\n",
       "      <td>12</td>\n",
       "      <td>31</td>\n",
       "      <td>21</td>\n",
       "      <td>44</td>\n",
       "      <td>17.740</td>\n",
       "      <td>38.79228</td>\n",
       "      <td>-122.77453</td>\n",
       "      <td>3.975</td>\n",
       "      <td>0.039</td>\n",
       "      <td>0.023</td>\n",
       "      <td>131</td>\n",
       "      <td>0.060</td>\n",
       "      <td>1.1</td>\n",
       "      <td>1124941</td>\n",
       "    </tr>\n",
       "    <tr>\n",
       "      <th>21271</th>\n",
       "      <td>1984</td>\n",
       "      <td>12</td>\n",
       "      <td>31</td>\n",
       "      <td>21</td>\n",
       "      <td>47</td>\n",
       "      <td>8.160</td>\n",
       "      <td>37.21852</td>\n",
       "      <td>-121.60970</td>\n",
       "      <td>3.779</td>\n",
       "      <td>0.003</td>\n",
       "      <td>0.003</td>\n",
       "      <td>46</td>\n",
       "      <td>0.007</td>\n",
       "      <td>0.7</td>\n",
       "      <td>36051</td>\n",
       "    </tr>\n",
       "    <tr>\n",
       "      <th>21272</th>\n",
       "      <td>1984</td>\n",
       "      <td>12</td>\n",
       "      <td>31</td>\n",
       "      <td>22</td>\n",
       "      <td>35</td>\n",
       "      <td>57.680</td>\n",
       "      <td>37.42411</td>\n",
       "      <td>-118.62705</td>\n",
       "      <td>6.234</td>\n",
       "      <td>0.014</td>\n",
       "      <td>0.010</td>\n",
       "      <td>20</td>\n",
       "      <td>0.027</td>\n",
       "      <td>1.1</td>\n",
       "      <td>36052</td>\n",
       "    </tr>\n",
       "    <tr>\n",
       "      <th>21273</th>\n",
       "      <td>1984</td>\n",
       "      <td>12</td>\n",
       "      <td>31</td>\n",
       "      <td>23</td>\n",
       "      <td>23</td>\n",
       "      <td>8.964</td>\n",
       "      <td>37.42794</td>\n",
       "      <td>-118.61264</td>\n",
       "      <td>12.437</td>\n",
       "      <td>0.024</td>\n",
       "      <td>0.014</td>\n",
       "      <td>11</td>\n",
       "      <td>0.030</td>\n",
       "      <td>1.6</td>\n",
       "      <td>1124943</td>\n",
       "    </tr>\n",
       "    <tr>\n",
       "      <th>21274</th>\n",
       "      <td>1984</td>\n",
       "      <td>12</td>\n",
       "      <td>31</td>\n",
       "      <td>23</td>\n",
       "      <td>38</td>\n",
       "      <td>35.080</td>\n",
       "      <td>38.80169</td>\n",
       "      <td>-122.80670</td>\n",
       "      <td>1.275</td>\n",
       "      <td>0.013</td>\n",
       "      <td>0.011</td>\n",
       "      <td>101</td>\n",
       "      <td>0.019</td>\n",
       "      <td>1.6</td>\n",
       "      <td>1124944</td>\n",
       "    </tr>\n",
       "  </tbody>\n",
       "</table>\n",
       "<p>21275 rows × 15 columns</p>\n",
       "</div>"
      ],
      "text/plain": [
       "       YEAR  MONTH  DAY  HOUR  MINUTE  SECOND  latitude  longitude   depth  \\\n",
       "0      1984      1    1     1      19  11.317  36.08781 -120.22869  10.897   \n",
       "1      1984      1    1     1      58   2.420  36.87608 -120.90669   2.661   \n",
       "2      1984      1    1     1      59  27.124  36.87000 -120.90889   1.592   \n",
       "3      1984      1    1     2      28   4.240  37.51546 -118.75485   7.703   \n",
       "4      1984      1    1     3       8  58.044  40.57227 -124.55933  20.407   \n",
       "...     ...    ...  ...   ...     ...     ...       ...        ...     ...   \n",
       "21270  1984     12   31    21      44  17.740  38.79228 -122.77453   3.975   \n",
       "21271  1984     12   31    21      47   8.160  37.21852 -121.60970   3.779   \n",
       "21272  1984     12   31    22      35  57.680  37.42411 -118.62705   6.234   \n",
       "21273  1984     12   31    23      23   8.964  37.42794 -118.61264  12.437   \n",
       "21274  1984     12   31    23      38  35.080  38.80169 -122.80670   1.275   \n",
       "\n",
       "         EH1    EH2   AZ     EV  mag       ID  \n",
       "0      0.020  0.010   96  0.022  1.8  1109386  \n",
       "1      0.071  0.018   55  0.421  0.0      346  \n",
       "2      0.110  0.016   66  0.727  1.5  1109389  \n",
       "3      0.020  0.008   37  0.024  1.2  1109391  \n",
       "4      1.009  0.083  103  0.080  2.0  1109392  \n",
       "...      ...    ...  ...    ...  ...      ...  \n",
       "21270  0.039  0.023  131  0.060  1.1  1124941  \n",
       "21271  0.003  0.003   46  0.007  0.7    36051  \n",
       "21272  0.014  0.010   20  0.027  1.1    36052  \n",
       "21273  0.024  0.014   11  0.030  1.6  1124943  \n",
       "21274  0.013  0.011  101  0.019  1.6  1124944  \n",
       "\n",
       "[21275 rows x 15 columns]"
      ]
     },
     "execution_count": 2,
     "metadata": {},
     "output_type": "execute_result"
    }
   ],
   "source": [
    "'''чтение файла из директории проги\n",
    "и устранение выбросов значений магнитуды округлением до 1 знака пз.'''\n",
    "my_cat = pd.read_csv('./catalogues/DOUBLE_PREC_DD (2).csv', sep = ';') \n",
    "my_cat = my_cat.loc[my_cat.YEAR < 1985]\n",
    "#my_cat = my_cat.loc[my_cat.latitude > 38.7751667]\n",
    "#my_cat = my_cat.loc[my_cat.latitude < 38.8081667]\n",
    "#my_cat = my_cat.loc[my_cat.longitude > -122.778]\n",
    "#my_cat = my_cat.loc[my_cat.longitude < -122.733]\n",
    "my_cat = my_cat.reset_index(drop = True)\n",
    "my_cat.mag = round(my_cat.mag, 1)  \n",
    "my_cat"
   ]
  },
  {
   "cell_type": "code",
   "execution_count": 3,
   "metadata": {},
   "outputs": [
    {
     "data": {
      "text/plain": [
       "\"from pathlib import Path  \\nfilepath = Path('./results/my_cat.csv')\\nmy_cat.to_csv(filepath)\""
      ]
     },
     "execution_count": 3,
     "metadata": {},
     "output_type": "execute_result"
    }
   ],
   "source": [
    "'''from pathlib import Path  \n",
    "filepath = Path('./results/my_cat.csv')\n",
    "my_cat.to_csv(filepath)'''"
   ]
  },
  {
   "cell_type": "code",
   "execution_count": 4,
   "metadata": {
    "scrolled": false
   },
   "outputs": [
    {
     "data": {
      "text/plain": [
       "Text(0.5, 0.98, 'График повторяемости землетрясений')"
      ]
     },
     "execution_count": 4,
     "metadata": {},
     "output_type": "execute_result"
    },
    {
     "data": {
      "image/png": "[encoded data removed]",
      "text/plain": [
       "<Figure size 432x288 with 1 Axes>"
      ]
     },
     "metadata": {
      "needs_background": "light"
     },
     "output_type": "display_data"
    }
   ],
   "source": [
    "'''Следующий кусок вычисляет необходимые для построения графика повторяемости EQ параметры\n",
    "а именно: N_tot - суммарное количество землетрясений\n",
    "a - Series, состоящая из значений lg(N/N_tot) и соотвествующих магнитуд\n",
    "и, собственно строит график ПЗ для оценки справедливости Г-Р.'''\n",
    "N_tot = my_cat.shape\n",
    "f = lambda x: math.log10(x/N_tot[0])\n",
    "a = my_cat.mag.value_counts().apply(f)\n",
    "a.plot(style='.')\n",
    "plt.grid()\n",
    "plt.xlabel(\"M\")\n",
    "plt.ylabel(\"logN\")\n",
    "plt.suptitle('График повторяемости землетрясений', \n",
    "             fontsize=14, fontweight='bold')\n",
    " # расчет b-value по формуле Aki\n",
    "# mag - СТОЛБЕЦ С МАГНИТУДОЙ В ДАННОЙ csv\n"
   ]
  },
  {
   "cell_type": "markdown",
   "metadata": {},
   "source": [
    "### Необходимо выбрать представительную магнитуду"
   ]
  },
  {
   "cell_type": "code",
   "execution_count": 5,
   "metadata": {},
   "outputs": [
    {
     "name": "stdout",
     "output_type": "stream",
     "text": [
      "1.4\n",
      "\u001b[1mb-value is: 0.7020149560978459  ±  0.0048129525524274845\n"
     ]
    }
   ],
   "source": [
    "M_0 = float(input())\n",
    "my_cat = my_cat.loc[my_cat['mag'] > M_0]\n",
    "my_cat = my_cat.reset_index(drop = True)\n",
    "b_value = 1 / (my_cat['mag'].mean() - M_0) * (1/ math.log(10)) # расчет b-value по формуле Aki\n",
    "print('\\033[1m'+'b-value is:', b_value, ' ± ', b_value/math.sqrt(N_tot[0]))\n",
    "N_tot = my_cat.shape"
   ]
  },
  {
   "cell_type": "code",
   "execution_count": 6,
   "metadata": {
    "scrolled": true
   },
   "outputs": [],
   "source": [
    "'''Вместо того, чтобы каждый раз перебирать для каждого заданного расстояния между\n",
    "землетрясениями все возможные пары расстояний, в самом начале создается массив\n",
    "с этими парами. Это существенно сокращает время выполнения программы'''\n",
    "from random import random\n",
    "array_of_dist = np.array([[random() for k in range(N_tot[0])] for i in range(N_tot[0])])"
   ]
  },
  {
   "cell_type": "markdown",
   "metadata": {},
   "source": [
    "# Функция близости"
   ]
  },
  {
   "cell_type": "code",
   "execution_count": 7,
   "metadata": {},
   "outputs": [],
   "source": [
    "d_f = 1.65"
   ]
  },
  {
   "cell_type": "code",
   "execution_count": 8,
   "metadata": {},
   "outputs": [
    {
     "name": "stdout",
     "output_type": "stream",
     "text": [
      "b-value is                0.702\n",
      "d_f is                    1.65\n",
      "Minimal magnitude M_0 is  1.4\n"
     ]
    }
   ],
   "source": [
    "print(\"b-value is               \", round(b_value,3))\n",
    "print(\"d_f is                   \", round(d_f,3))\n",
    "print(\"Minimal magnitude M_0 is \", M_0)"
   ]
  },
  {
   "cell_type": "code",
   "execution_count": 9,
   "metadata": {},
   "outputs": [
    {
     "data": {
      "text/plain": [
       "'нет смысла задавать inf, потому что потом все равно будут перемножения элементов матриц'"
      ]
     },
     "execution_count": 9,
     "metadata": {},
     "output_type": "execute_result"
    }
   ],
   "source": [
    "n_ = np.zeros((N_tot[0],N_tot[0])) #numpy-array - будущая матрица расстояний м/у событиями\n",
    "'''нет смысла задавать inf, потому что потом все равно будут перемножения элементов матриц'''"
   ]
  },
  {
   "cell_type": "code",
   "execution_count": 10,
   "metadata": {},
   "outputs": [],
   "source": [
    "year = np.array([my_cat.YEAR.to_numpy() for i in range(N_tot[0])])\n",
    "month = np.array([(my_cat.MONTH.to_numpy())/12 for i in range(N_tot[0])])\n",
    "day = np.array([my_cat.DAY.to_numpy()/365 for i in range(N_tot[0])])\n",
    "hour = np.array([my_cat.HOUR.to_numpy()/8760 for i in range(N_tot[0])])\n",
    "minute = np.array([my_cat.MINUTE.to_numpy()/525600 for i in range(N_tot[0])])\n",
    "second = np.array([my_cat.SECOND.to_numpy()/31536000 for i in range(N_tot[0])])\n",
    "TIME_IN_YEARS = year + month + day + hour + minute + second"
   ]
  },
  {
   "cell_type": "code",
   "execution_count": 11,
   "metadata": {},
   "outputs": [],
   "source": [
    "delta_TIME_IN_YEARS = np.transpose(TIME_IN_YEARS) - TIME_IN_YEARS "
   ]
  },
  {
   "cell_type": "code",
   "execution_count": 12,
   "metadata": {},
   "outputs": [],
   "source": [
    "delta_TIME_IN_YEARS.shape\n",
    "delta_TIME_IN_YEARS = np.tril(delta_TIME_IN_YEARS, k = 0)\n",
    "delta_TIME_IN_YEARS[delta_TIME_IN_YEARS < 0] = abs(delta_TIME_IN_YEARS[np.where(delta_TIME_IN_YEARS < 0)])"
   ]
  },
  {
   "cell_type": "code",
   "execution_count": 13,
   "metadata": {},
   "outputs": [],
   "source": [
    "mag = np.array([my_cat.mag.to_numpy() for i in range(N_tot[0])])\n",
    "mag = np.tril(np.transpose(mag), k = 0)"
   ]
  },
  {
   "cell_type": "code",
   "execution_count": 14,
   "metadata": {},
   "outputs": [
    {
     "data": {
      "text/plain": [
       "array([[0.00000000e+00, 0.00000000e+00, 0.00000000e+00, ...,\n",
       "        0.00000000e+00, 0.00000000e+00, 0.00000000e+00],\n",
       "       [7.66047374e-05, 0.00000000e+00, 0.00000000e+00, ...,\n",
       "        0.00000000e+00, 0.00000000e+00, 0.00000000e+00],\n",
       "       [2.08863743e-04, 1.32259005e-04, 0.00000000e+00, ...,\n",
       "        0.00000000e+00, 0.00000000e+00, 0.00000000e+00],\n",
       "       ...,\n",
       "       [1.00107452e+00, 1.00099791e+00, 1.00086565e+00, ...,\n",
       "        0.00000000e+00, 0.00000000e+00, 0.00000000e+00],\n",
       "       [1.00137740e+00, 1.00130079e+00, 1.00116854e+00, ...,\n",
       "        3.02881913e-04, 0.00000000e+00, 0.00000000e+00],\n",
       "       [1.00140677e+00, 1.00133016e+00, 1.00119790e+00, ...,\n",
       "        3.32248859e-04, 2.93669457e-05, 0.00000000e+00]])"
      ]
     },
     "execution_count": 14,
     "metadata": {},
     "output_type": "execute_result"
    }
   ],
   "source": [
    "delta_TIME_IN_YEARS"
   ]
  },
  {
   "cell_type": "code",
   "execution_count": 15,
   "metadata": {},
   "outputs": [],
   "source": [
    "n_ = math.pow(10,-b_value)*(np.multiply(np.multiply(delta_TIME_IN_YEARS,np.power(array_of_dist, d_f)),mag))"
   ]
  },
  {
   "cell_type": "code",
   "execution_count": 16,
   "metadata": {},
   "outputs": [],
   "source": [
    "n_ = np.tril(n_, k=0)\n",
    "n_[n_ == 0] = float('inf')\n",
    "n_[n_ == np.nan] = float('inf')"
   ]
  },
  {
   "cell_type": "code",
   "execution_count": 17,
   "metadata": {},
   "outputs": [],
   "source": [
    "np.save('n_', n_)"
   ]
  },
  {
   "cell_type": "code",
   "execution_count": 18,
   "metadata": {},
   "outputs": [
    {
     "data": {
      "text/plain": [
       "-449"
      ]
     },
     "execution_count": 18,
     "metadata": {},
     "output_type": "execute_result"
    }
   ],
   "source": [
    "int(math.log10(min(n_[2]))*100)"
   ]
  },
  {
   "cell_type": "code",
   "execution_count": 19,
   "metadata": {},
   "outputs": [],
   "source": [
    "N = np.array([0.] * N_tot[0]) #Минимальное расстояние до соседа\n",
    "D = np.array([0.] * N_tot[0]) #Номер события, до которого расстояние минимально (в перспективе - ближайший сосед)\n",
    "#Поиск соответствующих расстояний и номеров\n",
    "for i in range(1,len(n_)):\n",
    "    D[i] = (math.log10(min(n_[i])))\n",
    "    #N[i] = n_[:][i].index(min(n_[i][:]))\n",
    "resultate = pd.DataFrame({'Closest_neigh':D, 'Index_o_CN':N})"
   ]
  },
  {
   "cell_type": "code",
   "execution_count": 20,
   "metadata": {},
   "outputs": [
    {
     "data": {
      "text/html": [
       "<div>\n",
       "<style scoped>\n",
       "    .dataframe tbody tr th:only-of-type {\n",
       "        vertical-align: middle;\n",
       "    }\n",
       "\n",
       "    .dataframe tbody tr th {\n",
       "        vertical-align: top;\n",
       "    }\n",
       "\n",
       "    .dataframe thead th {\n",
       "        text-align: right;\n",
       "    }\n",
       "</style>\n",
       "<table border=\"1\" class=\"dataframe\">\n",
       "  <thead>\n",
       "    <tr style=\"text-align: right;\">\n",
       "      <th></th>\n",
       "      <th>Closest_neigh</th>\n",
       "      <th>Index_o_CN</th>\n",
       "    </tr>\n",
       "  </thead>\n",
       "  <tbody>\n",
       "    <tr>\n",
       "      <th>0</th>\n",
       "      <td>0.000000</td>\n",
       "      <td>0.0</td>\n",
       "    </tr>\n",
       "    <tr>\n",
       "      <th>1</th>\n",
       "      <td>-7.054375</td>\n",
       "      <td>0.0</td>\n",
       "    </tr>\n",
       "    <tr>\n",
       "      <th>2</th>\n",
       "      <td>-4.496637</td>\n",
       "      <td>0.0</td>\n",
       "    </tr>\n",
       "    <tr>\n",
       "      <th>3</th>\n",
       "      <td>-5.039478</td>\n",
       "      <td>0.0</td>\n",
       "    </tr>\n",
       "    <tr>\n",
       "      <th>4</th>\n",
       "      <td>-5.508774</td>\n",
       "      <td>0.0</td>\n",
       "    </tr>\n",
       "    <tr>\n",
       "      <th>...</th>\n",
       "      <td>...</td>\n",
       "      <td>...</td>\n",
       "    </tr>\n",
       "    <tr>\n",
       "      <th>7774</th>\n",
       "      <td>-6.654716</td>\n",
       "      <td>0.0</td>\n",
       "    </tr>\n",
       "    <tr>\n",
       "      <th>7775</th>\n",
       "      <td>-9.302126</td>\n",
       "      <td>0.0</td>\n",
       "    </tr>\n",
       "    <tr>\n",
       "      <th>7776</th>\n",
       "      <td>-8.876482</td>\n",
       "      <td>0.0</td>\n",
       "    </tr>\n",
       "    <tr>\n",
       "      <th>7777</th>\n",
       "      <td>-9.677502</td>\n",
       "      <td>0.0</td>\n",
       "    </tr>\n",
       "    <tr>\n",
       "      <th>7778</th>\n",
       "      <td>-9.162986</td>\n",
       "      <td>0.0</td>\n",
       "    </tr>\n",
       "  </tbody>\n",
       "</table>\n",
       "<p>7779 rows × 2 columns</p>\n",
       "</div>"
      ],
      "text/plain": [
       "      Closest_neigh  Index_o_CN\n",
       "0          0.000000         0.0\n",
       "1         -7.054375         0.0\n",
       "2         -4.496637         0.0\n",
       "3         -5.039478         0.0\n",
       "4         -5.508774         0.0\n",
       "...             ...         ...\n",
       "7774      -6.654716         0.0\n",
       "7775      -9.302126         0.0\n",
       "7776      -8.876482         0.0\n",
       "7777      -9.677502         0.0\n",
       "7778      -9.162986         0.0\n",
       "\n",
       "[7779 rows x 2 columns]"
      ]
     },
     "execution_count": 20,
     "metadata": {},
     "output_type": "execute_result"
    }
   ],
   "source": [
    "resultate"
   ]
  },
  {
   "cell_type": "code",
   "execution_count": 21,
   "metadata": {},
   "outputs": [],
   "source": [
    "resultate\n",
    "from pathlib import Path  \n",
    "filepath = Path('./results/nearest_dist_n_index.csv')\n",
    "resultate.to_csv(filepath)"
   ]
  },
  {
   "cell_type": "code",
   "execution_count": 22,
   "metadata": {},
   "outputs": [],
   "source": [
    "Dist_to_Nearest = resultate.Closest_neigh.value_counts(normalize=True)\n",
    "from pathlib import Path  \n",
    "filepath = Path('./results/nearest_dist_normalised_n_0.csv')\n",
    "Dist_to_Nearest.to_csv(filepath)"
   ]
  },
  {
   "cell_type": "code",
   "execution_count": null,
   "metadata": {},
   "outputs": [],
   "source": []
  }
 ],
 "metadata": {
  "kernelspec": {
   "display_name": "Python 3 (ipykernel)",
   "language": "python",
   "name": "python3"
  },
  "language_info": {
   "codemirror_mode": {
    "name": "ipython",
    "version": 3
   },
   "file_extension": ".py",
   "mimetype": "text/x-python",
   "name": "python",
   "nbconvert_exporter": "python",
   "pygments_lexer": "ipython3",
   "version": "3.9.12"
  }
 },
 "nbformat": 4,
 "nbformat_minor": 4
}
