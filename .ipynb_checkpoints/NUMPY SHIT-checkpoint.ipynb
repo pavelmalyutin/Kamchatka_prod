{
 "cells": [
  {
   "cell_type": "markdown",
   "metadata": {},
   "source": [
    "# Малютин Павел, ИТПЗ РАН\n",
    " "
   ]
  },
  {
   "cell_type": "code",
   "execution_count": null,
   "metadata": {},
   "outputs": [],
   "source": [
    "import pandas as pd\n",
    "import math \n",
    "import dask.dataframe as dd\n",
    "import matplotlib.pyplot as plt\n",
    "import numpy as np\n",
    "from numpy import nan\n",
    "from tqdm import tqdm\n",
    "from numba import jit, njit\n",
    "from sklearn.linear_model import LinearRegression"
   ]
  },
  {
   "cell_type": "markdown",
   "metadata": {},
   "source": [
    "# b-value calculating"
   ]
  },
  {
   "cell_type": "code",
   "execution_count": null,
   "metadata": {
    "scrolled": true
   },
   "outputs": [],
   "source": [
    "'''чтение файла из директории проги\n",
    "и устранение выбросов значений магнитуды округлением до 1 знака пз.'''\n",
    "my_cat = pd.read_csv('./catalogues/DOUBLE_PREC_DD (2).csv', sep = ';') \n",
    "#my_cat = my_cat.loc[my_cat.YEAR < 1986]\n",
    "my_cat = my_cat.loc[my_cat.latitude > 38.7751667]\n",
    "my_cat = my_cat.loc[my_cat.latitude < 38.8081667]\n",
    "my_cat = my_cat.loc[my_cat.longitude > -122.778]\n",
    "my_cat = my_cat.loc[my_cat.longitude < -122.733]\n",
    "my_cat = my_cat.reset_index(drop = True)\n",
    "my_cat.mag = round(my_cat.mag, 1)  \n",
    "my_cat.head()"
   ]
  },
  {
   "cell_type": "code",
   "execution_count": null,
   "metadata": {},
   "outputs": [],
   "source": []
  },
  {
   "cell_type": "code",
   "execution_count": null,
   "metadata": {
    "scrolled": false
   },
   "outputs": [],
   "source": [
    "'''Следующий кусок вычисляет необходимые для построения графика повторяемости EQ параметры\n",
    "а именно: N_tot - суммарное количество землетрясений\n",
    "a - Series, состоящая из значений lg(N/N_tot) и соотвествующих магнитуд\n",
    "и, собственно строит график ПЗ для оценки справедливости Г-Р.'''\n",
    "N_tot = my_cat.shape\n",
    "f = lambda x: math.log10(x/N_tot[0])\n",
    "a = my_cat.mag.value_counts().apply(f)\n",
    "a.plot(style='.')\n",
    "plt.grid()\n",
    "plt.xlabel(\"M\")\n",
    "plt.ylabel(\"logN\")\n",
    "plt.suptitle('График повторяемости землетрясений', \n",
    "             fontsize=14, fontweight='bold')\n",
    " # расчет b-value по формуле Aki\n",
    "# mag - СТОЛБЕЦ С МАГНИТУДОЙ В ДАННОЙ csv\n"
   ]
  },
  {
   "cell_type": "markdown",
   "metadata": {},
   "source": [
    "### Необходимо выбрать представительную магнитуду"
   ]
  },
  {
   "cell_type": "code",
   "execution_count": null,
   "metadata": {},
   "outputs": [],
   "source": [
    "M_0 = float(input())\n",
    "my_cat = my_cat.loc[my_cat['mag'] > M_0]\n",
    "my_cat = my_cat.reset_index(drop = True)\n",
    "b_value = 1 / (my_cat['mag'].mean() - M_0) * (1/ math.log(10))\n",
    "# расчет b-value по формуле Aki\n",
    "# mag - СТОЛБЕЦ С МАГНИТУДОЙ В ДАННОЙ csv\n",
    "print('\\033[1m'+'b-value is:', b_value, ' ± ', b_value/math.sqrt(N_tot[0]))\n",
    "my_cat\n",
    "N_tot = my_cat.shape\n",
    "from pathlib import Path  \n",
    "filepath = Path('./results/my_cat.csv')\n",
    "my_cat.to_csv(filepath)"
   ]
  },
  {
   "cell_type": "markdown",
   "metadata": {},
   "source": [
    "# Fractal dimension\n",
    "#### но, прежде всего, функция вычисления расстояния между землетрясениями\n"
   ]
  },
  {
   "cell_type": "code",
   "execution_count": null,
   "metadata": {},
   "outputs": [],
   "source": [
    "Pi2 = math.pi/2 # тупо пи-на-два\n",
    "RAD = 0.01745329 # DGR -> RAD\n",
    "FLAT = 0.993231 # поправка на эллипсоидноть\n",
    "'''создание numpy-array для более быстрого обращения [к памяти]\n",
    "в цикле к соответствующим значениям широты и долготы'''\n",
    "latitude = (my_cat.latitude.to_numpy())\n",
    "longitude = (my_cat.longitude.to_numpy())\n",
    "depth = my_cat.depth.to_numpy()"
   ]
  },
  {
   "cell_type": "code",
   "execution_count": null,
   "metadata": {},
   "outputs": [],
   "source": [
    "la = np.array([longitude for i in range (N_tot[0])])\n",
    "fi = np.array([latitude for i in range(N_tot[0])])\n",
    "d =  np.array([depth for i in range(N_tot[0])])\n",
    "PI_2 = np.array([[Pi2]*N_tot[0] for i in range(N_tot[0])])\n",
    "col = PI_2 - np.arctan(FLAT*np.tan(RAD*fi))\n",
    "dlon = RAD*np.transpose(la) - RAD*la\n",
    "sin_col = np.multiply(np.sin(col),np.sin(np.transpose(col)))\n",
    "cos_col = np.multiply(np.cos(col),np.cos(np.transpose(col)))\n",
    "delr = np.arccos(np.multiply(sin_col,np.cos(dlon)) + cos_col)\n",
    "colat = PI_2 - (0.5*(np.transpose(RAD*fi)+RAD*fi)) \n",
    "kek =  np.sqrt(np.power(np.multiply(6371.227*delr,(np.array([[1]*N_tot[0] for i in range(N_tot[0])]) + 0.00337853*(np.array([[1./3]*N_tot[0] for i in range(N_tot[0])]) -np.power(np.cos(colat),2)))),2) + np.power(np.transpose(d)-d,2))\n",
    "\n",
    "kek = np.triu(kek, k=0)\n",
    "#kek[kek == 0] = float('inf')"
   ]
  },
  {
   "cell_type": "code",
   "execution_count": null,
   "metadata": {},
   "outputs": [],
   "source": [
    "#kek[kek == 0] = float('inf')"
   ]
  },
  {
   "cell_type": "code",
   "execution_count": null,
   "metadata": {},
   "outputs": [],
   "source": [
    "kek.min()"
   ]
  },
  {
   "cell_type": "code",
   "execution_count": null,
   "metadata": {},
   "outputs": [],
   "source": [
    "kek[kek == nan] = 0.01"
   ]
  },
  {
   "cell_type": "markdown",
   "metadata": {},
   "source": [
    "## Непосредственный расчёт фрактальной размерности"
   ]
  },
  {
   "cell_type": "code",
   "execution_count": null,
   "metadata": {},
   "outputs": [],
   "source": [
    "fractalka = pd.DataFrame(dtype='float')  #ДФ с lg(N/N_0) и lg(A)\n",
    "X = np.linspace(0.1,1.4,24) #задает равномерно распределенный массив возможных расстояний м/у ЗТ\n",
    "element_count = 0\n",
    "total_pairs = N_tot[0]*(N_tot[0]-1)/2    #общее количество пар землетрясений \n",
    "for i in tqdm(X):\n",
    "    for n in range(N_tot[0]):\n",
    "        element_count += (kek[n] < i).sum()\n",
    "    fractalka = pd.concat([fractalka, pd.DataFrame ([math.log10(element_count/total_pairs)],[math.log10(i)])])\n",
    "    element_count = 0\n",
    "    "
   ]
  },
  {
   "cell_type": "code",
   "execution_count": null,
   "metadata": {},
   "outputs": [],
   "source": [
    "fractalka = pd.DataFrame(dtype='float')  #ДФ с lg(N/N_0) и lg(A)\n",
    "X = np.linspace(0.1,1.4,24) #задает равномерно распределенный массив возможных расстояний м/у ЗТ\n",
    "element_count = 0\n",
    "total_pairs = N_tot[0]*(N_tot[0]-1)/2    #общее количество пар землетрясений \n",
    "for i in tqdm(X):\n",
    "    for n in range(N_tot[0]):\n",
    "        element_count += (kek[n] < i).sum()\n",
    "    fractalka = pd.concat([fractalka, pd.DataFrame ([math.log10(element_count/total_pairs)],[math.log10(i)])])\n",
    "    element_count = 0"
   ]
  },
  {
   "cell_type": "code",
   "execution_count": null,
   "metadata": {
    "scrolled": true
   },
   "outputs": [],
   "source": [
    "fractalka.plot(style='.')\n",
    "plt.suptitle('График зав-ти логарифма отн. числа пар землетрясений' '\\nпри заданном расстоянии от логарифма этого расстояния', \n",
    "             fontsize=14, fontweight='bold')\n",
    "plt.grid()\n",
    "plt.xlabel(\"log(A)\")\n",
    "plt.ylabel(\"log(N/N_0)\")"
   ]
  },
  {
   "cell_type": "code",
   "execution_count": null,
   "metadata": {},
   "outputs": [],
   "source": [
    "fractalka.plot(style='.')\n",
    "plt.suptitle('График зав-ти логарифма отн. числа пар землетрясений' '\\nпри заданном расстоянии от логарифма этого расстояния', \n",
    "             fontsize=14, fontweight='bold')\n",
    "plt.grid()\n",
    "\n",
    "plt.xlabel(\"log(A)\")\n",
    "plt.ylabel(\"log(N/N_0)\")\n",
    "X = fractalka.index.to_numpy().reshape(-1, 1)\n",
    "Y = fractalka[0].to_numpy().reshape(-1, 1)\n",
    "linear_model_d = LinearRegression()\n",
    "linear_model_d.fit(X, Y)\n",
    "d_f = linear_model_d.coef_[0][0] # фрактальная размерность\n",
    "print('\\033[1m' + 'Fractal dimension is', d_f)"
   ]
  },
  {
   "cell_type": "code",
   "execution_count": null,
   "metadata": {},
   "outputs": [],
   "source": []
  },
  {
   "cell_type": "markdown",
   "metadata": {},
   "source": [
    "# Функция близости"
   ]
  },
  {
   "cell_type": "code",
   "execution_count": null,
   "metadata": {},
   "outputs": [],
   "source": [
    "print(\"b-value is               \", round(b_value,3))\n",
    "print(\"d_f is                   \", round(d_f,3))\n",
    "print(\"Minimal magnitude M_0 is \", M_0)"
   ]
  },
  {
   "cell_type": "code",
   "execution_count": null,
   "metadata": {},
   "outputs": [],
   "source": [
    "n_ = [[float('inf')] * N_tot[0] for i in range(N_tot[0])]\n",
    "#T_ = [[0] * N_tot[0] for i in range(N_tot[0])]"
   ]
  },
  {
   "cell_type": "code",
   "execution_count": null,
   "metadata": {},
   "outputs": [],
   "source": [
    "my_cat.SECOND = my_cat.SECOND.astype(int)\n",
    "import datetime\n",
    "year = my_cat.YEAR.to_numpy()\n",
    "month = my_cat.MONTH.to_numpy()\n",
    "day = my_cat.DAY.to_numpy()\n",
    "hour = my_cat.HOUR.to_numpy()\n",
    "minute = my_cat.MINUTE.to_numpy()\n",
    "second = my_cat.SECOND.to_numpy()"
   ]
  },
  {
   "cell_type": "code",
   "execution_count": null,
   "metadata": {},
   "outputs": [],
   "source": []
  },
  {
   "cell_type": "markdown",
   "metadata": {},
   "source": [
    "### Функция для рассчёта времени между зт"
   ]
  },
  {
   "cell_type": "code",
   "execution_count": null,
   "metadata": {},
   "outputs": [],
   "source": [
    "@jit \n",
    "def time_in_seconds (i, j):\n",
    "    t_i = datetime.datetime(year[i], month[i], day[i], hour[i], minute[i], second[i])\n",
    "    t_j = datetime.datetime(year[j], month[j], day[j], hour[j], minute[j], second[j])\n",
    "    t_ij = (t_i - t_j).total_seconds()\n",
    "    if t_ij == 0:\n",
    "        return -0.1\n",
    "    return -t_ij"
   ]
  },
  {
   "cell_type": "code",
   "execution_count": null,
   "metadata": {},
   "outputs": [],
   "source": [
    "'''for i in tqdm(range(N_tot[0]-1,-1,-1)):\n",
    "    for j in range(i,-1,-1):\n",
    "        T_[i][j] = -time_in_seconds(i,j)\n",
    "        T_[j][i] = T_[i][j]'''"
   ]
  },
  {
   "cell_type": "code",
   "execution_count": null,
   "metadata": {},
   "outputs": [],
   "source": [
    "for i in tqdm(range(N_tot[0])):\n",
    "    for j in range(i,N_tot[0]): #ВНИМАНИЕ - ХЗ ПОЧЕМУ ОТ И БЕРУ. ХОЧУ ПРОВЕРИТЬ\n",
    "        if i == j:\n",
    "            continue\n",
    "        n_[j][i] = abs(time_in_seconds (i, j))*(array_of_dist[i][j]**d_f)*(10**((-b_value)*my_cat.mag[i]))\n",
    "        #n_[j][i] = n_[i][j]\n",
    "        "
   ]
  },
  {
   "cell_type": "code",
   "execution_count": null,
   "metadata": {},
   "outputs": [],
   "source": [
    "np.save('n_', n_)\n"
   ]
  },
  {
   "cell_type": "code",
   "execution_count": null,
   "metadata": {},
   "outputs": [],
   "source": [
    "N = [0] * N_tot[0]\n",
    "D = [0] * N_tot[0]\n",
    "for i in range(len(n_)):\n",
    "    D[i] = round(math.log10((min(n_[i][:]))),1)\n",
    "    N[i] = n_[:][i].index(min(n_[i][:]))\n",
    "resultate = pd.DataFrame({'Closest_neigh':D, 'Index_o_CN':N})"
   ]
  },
  {
   "cell_type": "code",
   "execution_count": null,
   "metadata": {},
   "outputs": [],
   "source": [
    "resultate\n",
    "from pathlib import Path  \n",
    "filepath = Path('./results/nearest_dist_n_index.csv')\n",
    "resultate.to_csv(filepath)"
   ]
  },
  {
   "cell_type": "code",
   "execution_count": null,
   "metadata": {},
   "outputs": [],
   "source": [
    "Dist_to_Nearest = resultate.Closest_neigh.value_counts(normalize=True)\n",
    "from pathlib import Path  \n",
    "filepath = Path('./results/nearest_dist.csv')\n",
    "Dist_to_Nearest.to_csv(filepath)"
   ]
  },
  {
   "cell_type": "code",
   "execution_count": null,
   "metadata": {},
   "outputs": [],
   "source": [
    "resultate"
   ]
  },
  {
   "cell_type": "code",
   "execution_count": null,
   "metadata": {},
   "outputs": [],
   "source": [
    "part_cat = resultate.loc[resultate.index > 5922]\n",
    "part_cat.Closest_neigh.mean()"
   ]
  },
  {
   "cell_type": "code",
   "execution_count": null,
   "metadata": {},
   "outputs": [],
   "source": []
  },
  {
   "cell_type": "code",
   "execution_count": null,
   "metadata": {},
   "outputs": [],
   "source": []
  }
 ],
 "metadata": {
  "kernelspec": {
   "display_name": "Python 3 (ipykernel)",
   "language": "python",
   "name": "python3"
  },
  "language_info": {
   "codemirror_mode": {
    "name": "ipython",
    "version": 3
   },
   "file_extension": ".py",
   "mimetype": "text/x-python",
   "name": "python",
   "nbconvert_exporter": "python",
   "pygments_lexer": "ipython3",
   "version": "3.9.12"
  }
 },
 "nbformat": 4,
 "nbformat_minor": 4
}
